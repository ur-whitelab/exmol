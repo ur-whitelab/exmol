{
 "cells": [
  {
   "cell_type": "code",
   "execution_count": null,
   "id": "a0419a0f",
   "metadata": {},
   "outputs": [],
   "source": [
    "import pickle\n",
    "from cairosvg import svg2png"
   ]
  },
  {
   "cell_type": "code",
   "execution_count": null,
   "id": "26c96b5e",
   "metadata": {},
   "outputs": [],
   "source": [
    "with open(\"./exmol/lime_data/keys.pb\", \"rb\") as f:\n",
    "    odata = pickle.load(f)"
   ]
  },
  {
   "cell_type": "code",
   "execution_count": null,
   "id": "aac09d48",
   "metadata": {},
   "outputs": [],
   "source": [
    "new_d = {}\n",
    "for k, v in odata.items():\n",
    "    new_d[k] = {\n",
    "        \"svg\": v[\"svg\"],\n",
    "        \"png\": svg2png(v[\"svg\"], dpi=90, parent_width=130, parent_height=50),\n",
    "    }"
   ]
  },
  {
   "cell_type": "code",
   "execution_count": null,
   "id": "462cd24b",
   "metadata": {},
   "outputs": [],
   "source": [
    "with open(\"./exmol/lime_data/keys.pb\", \"wb\") as f:\n",
    "    pickle.dump(new_d, f)"
   ]
  },
  {
   "cell_type": "code",
   "execution_count": null,
   "id": "f5984dcb",
   "metadata": {},
   "outputs": [],
   "source": []
  }
 ],
 "metadata": {
  "kernelspec": {
   "display_name": "Python 3",
   "language": "python",
   "name": "python3"
  },
  "language_info": {
   "codemirror_mode": {
    "name": "ipython",
    "version": 3
   },
   "file_extension": ".py",
   "mimetype": "text/x-python",
   "name": "python",
   "nbconvert_exporter": "python",
   "pygments_lexer": "ipython3",
   "version": "3.8.11"
  }
 },
 "nbformat": 4,
 "nbformat_minor": 5
}
