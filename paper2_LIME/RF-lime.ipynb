{
 "cells": [
  {
   "cell_type": "markdown",
   "metadata": {},
   "source": [
    "# LIME paper: Random Forest for Solubility Prediciton"
   ]
  },
  {
   "cell_type": "markdown",
   "metadata": {},
   "source": [
    "## Import packages"
   ]
  },
  {
   "cell_type": "code",
   "execution_count": null,
   "metadata": {},
   "outputs": [],
   "source": [
    "import pandas as pd\n",
    "import matplotlib.pyplot as plt\n",
    "\n",
    "# import seaborn as sns\n",
    "import matplotlib as mpl\n",
    "import rdkit, rdkit.Chem, rdkit.Chem.Draw\n",
    "from rdkit.Chem.Draw import IPythonConsole\n",
    "import numpy as np\n",
    "import mordred, mordred.descriptors\n",
    "from mordred import HydrogenBond, Polarizability\n",
    "from mordred import SLogP, AcidBase, Aromatic, BondCount, AtomCount\n",
    "from mordred import Calculator\n",
    "\n",
    "import exmol as exmol\n",
    "from rdkit.Chem.Draw import rdDepictor\n",
    "import os\n",
    "from sklearn.ensemble import RandomForestRegressor\n",
    "from sklearn.model_selection import train_test_split\n",
    "\n",
    "os.environ[\"CUDA_VISIBLE_DEVICES\"] = \"0\"\n",
    "rdDepictor.SetPreferCoordGen(True)\n",
    "\n",
    "IPythonConsole.ipython_useSVG = True\n",
    "color_cycle = [\"#F06060\", \"#1BBC9B\", \"#F3B562\", \"#6e5687\", \"#5C4B51\"]\n",
    "mpl.rcParams[\"axes.prop_cycle\"] = mpl.cycler(color=color_cycle)\n",
    "np.random.seed(0)\n",
    "soldata = pd.read_csv(\n",
    "    \"https://github.com/whitead/dmol-book/raw/main/data/curated-solubility-dataset.csv\"\n",
    ")\n",
    "#drop smile with containing 'P'\n",
    "soldata = soldata[soldata[\"SMILES\"].str.contains(\"P\") == False]\n",
    "#drop smile where rdkit.Chem.MolFromSmiles return None\n",
    "soldata = soldata[soldata[\"SMILES\"].apply(lambda smiles: rdkit.Chem.MolFromSmiles(smiles) is not None)]\n",
    "\n",
    "\n",
    "features_start_at = list(soldata.columns).index(\"MolWt\")"
   ]
  },
  {
   "cell_type": "markdown",
   "metadata": {},
   "source": [
    "## Build and train a Random Forest model"
   ]
  },
  {
   "cell_type": "code",
   "execution_count": null,
   "metadata": {},
   "outputs": [],
   "source": [
    "# make object that can compute descriptors\n",
    "calc = Calculator()\n",
    "calc.register([HydrogenBond.HBondDonor, HydrogenBond.HBondAcceptor])\n",
    "calc.register(\n",
    "    [AcidBase.AcidicGroupCount, AcidBase.BasicGroupCount, Aromatic.AromaticBondsCount]\n",
    ")\n",
    "calc.register([SLogP.SLogP, Polarizability.APol])\n",
    "calc.register(\n",
    "    [\n",
    "        BondCount.BondCount(type=\"double\"),\n",
    "        BondCount.BondCount(type=\"aromatic\"),\n",
    "        AtomCount.AtomCount(\"Hetero\"),\n",
    "    ]\n",
    ")\n",
    "\n",
    "# make subsample from pandas df\n",
    "molecules = [rdkit.Chem.MolFromSmiles(smi) for smi in soldata.SMILES]\n",
    "\n",
    "raw_features = []\n",
    "for e, c in zip(molecules, calc.map(molecules, quiet=True)):\n",
    "    raw_features.append([v for v in c.values()])\n",
    "feature_names = np.array([d.description() for d in calc.descriptors])"
   ]
  },
  {
   "cell_type": "code",
   "execution_count": null,
   "metadata": {},
   "outputs": [],
   "source": [
    "raw_features = np.array(raw_features)\n",
    "labels = soldata[\"Solubility\"]\n",
    "print(len(labels)==len(molecules))"
   ]
  },
  {
   "cell_type": "code",
   "execution_count": null,
   "metadata": {},
   "outputs": [],
   "source": [
    "def pick_features(raw_features):\n",
    "    fm = raw_features.mean()\n",
    "    fs = raw_features.std()\n",
    "\n",
    "    def feature_convert(f):\n",
    "        f -= fm\n",
    "        f /= fs\n",
    "        return f\n",
    "\n",
    "    features = feature_convert(raw_features)\n",
    "\n",
    "    # we have some nans in features, likely because std was 0\n",
    "    features = features.astype(float)\n",
    "    features_select = np.random.randint(\n",
    "        0, len(raw_features[0]), size=3\n",
    "    )  # np.all(np.isfinite(features), axis=0)\n",
    "    features = features[:, features_select]\n",
    "    names = feature_names[features_select]\n",
    "    return features, names"
   ]
  },
  {
   "cell_type": "code",
   "execution_count": null,
   "metadata": {},
   "outputs": [],
   "source": [
    "features, names = pick_features(raw_features)\n",
    "print(features.shape, names)\n",
    "\n",
    "X_train, X_test, y_train, y_test = train_test_split(\n",
    "    features, labels, test_size=0.1, shuffle=True\n",
    ")\n",
    "\n",
    "clf = RandomForestRegressor(max_depth=10, random_state=0)\n",
    "clf.fit(X_train, y_train)\n",
    "predicted = clf.predict(X_test)"
   ]
  },
  {
   "cell_type": "code",
   "execution_count": null,
   "metadata": {},
   "outputs": [],
   "source": [
    "plt.figure(figsize=(5, 4))\n",
    "plt.plot(y_test, predicted, \".\")\n",
    "plt.plot(y_test, y_test, linestyle=\":\")\n",
    "plt.text(\n",
    "    max(y_test) - 6,\n",
    "    min(y_test) + 1,\n",
    "    f\"correlation = {np.corrcoef(y_test, predicted)[0,1]:.3f}\",\n",
    "    fontsize=12,\n",
    ")\n",
    "plt.text(\n",
    "    max(y_test) - 6,\n",
    "    min(y_test),\n",
    "    f\"loss = {np.sqrt(np.mean((y_test - predicted)**2)):.3f}\",\n",
    "    fontsize=12,\n",
    ")\n",
    "plt.savefig(\"RF-ROC.png\")"
   ]
  },
  {
   "cell_type": "markdown",
   "metadata": {},
   "source": [
    "## Compute descriptor attributions"
   ]
  },
  {
   "cell_type": "code",
   "execution_count": null,
   "metadata": {},
   "outputs": [],
   "source": [
    "def model_eval(smiles):\n",
    "    molecules = [rdkit.Chem.MolFromSmiles(smi) for smi in smiles]\n",
    "    labels = clf.predict(np.nan_to_num(features))\n",
    "    return labels\n",
    "\n",
    "\n",
    "labels = model_eval(soldata.SMILES)"
   ]
  },
  {
   "cell_type": "code",
   "execution_count": null,
   "metadata": {},
   "outputs": [],
   "source": [
    "smi = soldata.SMILES[150]\n",
    "stoned_kwargs = {\n",
    "    \"num_samples\": 2000,\n",
    "    \"alphabet\": exmol.get_basic_alphabet(),\n",
    "    \"max_mutations\": 2,\n",
    "}\n",
    "space = exmol.sample_space(smi, model_eval, stoned_kwargs=stoned_kwargs, quiet=True)"
   ]
  },
  {
   "cell_type": "code",
   "execution_count": null,
   "metadata": {},
   "outputs": [],
   "source": [
    "def calc_feature_importance(descriptors, tstats):\n",
    "    from collections import OrderedDict\n",
    "\n",
    "    feature_importance = {a: b for a, b in zip(descriptors, tstats) if not np.isnan(b)}\n",
    "    feature_importance = dict(\n",
    "        sorted(feature_importance.items(), key=lambda item: abs(item[1]), reverse=True)\n",
    "    )\n",
    "    # Fitted space important features\n",
    "    return feature_importance"
   ]
  },
  {
   "cell_type": "code",
   "execution_count": null,
   "metadata": {},
   "outputs": [],
   "source": [
    "descriptor_type = \"Classic\"\n",
    "exmol.lime_explain(space, descriptor_type=descriptor_type)\n",
    "wls_attr = calc_feature_importance(\n",
    "    list(space[0].descriptors.descriptor_names), list(space[0].descriptors.tstats)\n",
    ")\n",
    "wls_attr"
   ]
  },
  {
   "cell_type": "markdown",
   "metadata": {},
   "source": [
    "## Do we recover training features?"
   ]
  },
  {
   "cell_type": "code",
   "execution_count": null,
   "metadata": {},
   "outputs": [],
   "source": [
    "x = wls_attr.keys()\n",
    "xaxis = np.arange(len(x))\n",
    "x_colors = [\"purple\" if t in names else \"black\" for t in x]\n",
    "\n",
    "rf_imp = {a: b for a, b in zip(names, clf.feature_importances_)}\n",
    "rf_x = np.zeros(len(x))\n",
    "rf_y = np.zeros(len(x))\n",
    "for i, j in enumerate(x):\n",
    "    if j in rf_imp:\n",
    "        rf_x[i] = i\n",
    "        rf_y[i] = rf_imp[j]\n",
    "\n",
    "width = [wls_attr[i] for i in x]\n",
    "colors = [\"#F06060\" if i < 0 else \"#1BBC9B\" for i in width]\n",
    "\n",
    "fig, ax = plt.subplots(figsize=(6, 5))\n",
    "ax.barh(xaxis + 0.2, width, 0.75, label=\"WLS\", color=colors)\n",
    "\n",
    "plt.xticks(fontsize=12)\n",
    "plt.xlabel(\"Feature t-statistics\", fontsize=12)\n",
    "plt.yticks(xaxis, x, fontsize=12)\n",
    "[t.set_color(i) for (i, t) in zip(x_colors, ax.yaxis.get_ticklabels())]\n",
    "plt.gca().invert_yaxis()\n",
    "plt.title(\"Random Forest Regression\", fontsize=12)"
   ]
  }
 ],
 "metadata": {
  "interpreter": {
   "hash": "abc1ef2aae668f29add333aedc207234808b19831866b8480f007a054a2482dc"
  },
  "kernelspec": {
   "display_name": "Python 3 (ipykernel)",
   "language": "python",
   "name": "python3"
  },
  "language_info": {
   "codemirror_mode": {
    "name": "ipython",
    "version": 3
   },
   "file_extension": ".py",
   "mimetype": "text/x-python",
   "name": "python",
   "nbconvert_exporter": "python",
   "pygments_lexer": "ipython3",
   "version": "3.11.10"
  }
 },
 "nbformat": 4,
 "nbformat_minor": 4
}
