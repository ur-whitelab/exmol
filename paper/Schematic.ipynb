{
 "cells": [
  {
   "cell_type": "code",
   "execution_count": null,
   "metadata": {},
   "outputs": [],
   "source": [
    "import pandas as pd\n",
    "import matplotlib.pyplot as plt\n",
    "import seaborn as sns\n",
    "import matplotlib as mpl\n",
    "import rdkit, rdkit.Chem, rdkit.Chem.Draw\n",
    "from rdkit.Chem.Draw import IPythonConsole\n",
    "import numpy as np\n",
    "import mordred, mordred.descriptors\n",
    "import exmol\n",
    "from rdkit.Chem.Draw import rdDepictor\n",
    "\n",
    "# rdDepictor.SetPreferCoordGen(True)\n",
    "\n",
    "IPythonConsole.ipython_useSVG = True\n",
    "sns.set_context(\"notebook\")\n",
    "sns.set_style(\n",
    "    \"dark\",\n",
    "    {\n",
    "        \"xtick.bottom\": True,\n",
    "        \"ytick.left\": True,\n",
    "        \"xtick.color\": \"#666666\",\n",
    "        \"ytick.color\": \"#666666\",\n",
    "        \"axes.edgecolor\": \"#666666\",\n",
    "        \"axes.linewidth\": 0.8,\n",
    "        \"figure.dpi\": 300,\n",
    "    },\n",
    ")\n",
    "color_cycle = [\"#1BBC9B\", \"#F06060\", \"#F3B562\", \"#6e5687\", \"#5C4B51\"]\n",
    "mpl.rcParams[\"axes.prop_cycle\"] = mpl.cycler(color=color_cycle)"
   ]
  },
  {
   "cell_type": "code",
   "execution_count": null,
   "metadata": {},
   "outputs": [],
   "source": [
    "s1 = \"O=C([O-])C1=CC=CC=C1C(=O)NCC2=CC=CC=C2NCCC\"\n",
    "s2 = \"O=C(OC)C1=CC=CC=C1C(=O)NCC2=CC=CC=C2NCCC\"\n",
    "e1 = exmol.Example(s1, \"\", 0, 0, 0, is_origin=True)\n",
    "e2 = exmol.Example(s2, \"\", 0.9, 1.0, 1.0, label=\"Counterfactual\")\n",
    "fkw = {\"figsize\": (8, 6)}\n",
    "font = {\"family\": \"normal\", \"weight\": \"normal\", \"size\": 22}\n",
    "\n",
    "mpl.rc(\"axes\", titlesize=12)\n",
    "exmol.plot_cf([e1, e2], figure_kwargs=fkw, mol_size=(450, 400), nrows=1)\n",
    "plt.tight_layout()\n",
    "svg = exmol.insert_svg([e1, e2])\n",
    "with open(\"counterfactual.svg\", \"w\") as f:\n",
    "    f.write(svg)"
   ]
  }
 ],
 "metadata": {
  "kernelspec": {
   "display_name": "Python 3 (ipykernel)",
   "language": "python",
   "name": "python3"
  },
  "language_info": {
   "codemirror_mode": {
    "name": "ipython",
    "version": 3
   },
   "file_extension": ".py",
   "mimetype": "text/x-python",
   "name": "python",
   "nbconvert_exporter": "python",
   "pygments_lexer": "ipython3",
   "version": "3.8.11"
  }
 },
 "nbformat": 4,
 "nbformat_minor": 4
}
