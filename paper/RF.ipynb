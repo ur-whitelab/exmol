{
 "cells": [
  {
   "cell_type": "code",
   "execution_count": null,
   "metadata": {},
   "outputs": [],
   "source": [
    "import pandas as pd\n",
    "import matplotlib.pyplot as plt\n",
    "import seaborn as sns\n",
    "import matplotlib as mpl\n",
    "import rdkit, rdkit.Chem, rdkit.Chem.Draw\n",
    "from rdkit.Chem.Draw import IPythonConsole\n",
    "import numpy as np\n",
    "import skunk\n",
    "import mordred, mordred.descriptors\n",
    "import exmol as exmol\n",
    "from rdkit.Chem.Draw import rdDepictor\n",
    "from sklearn.ensemble import RandomForestClassifier\n",
    "from sklearn.model_selection import train_test_split\n",
    "from sklearn.metrics import roc_auc_score, plot_roc_curve\n",
    "\n",
    "rdDepictor.SetPreferCoordGen(True)\n",
    "\n",
    "IPythonConsole.ipython_useSVG = True\n",
    "sns.set_context(\"notebook\")\n",
    "sns.set_style(\n",
    "    \"dark\",\n",
    "    {\n",
    "        \"xtick.bottom\": True,\n",
    "        \"ytick.left\": True,\n",
    "        \"xtick.color\": \"#666666\",\n",
    "        \"ytick.color\": \"#666666\",\n",
    "        \"axes.edgecolor\": \"#666666\",\n",
    "        \"axes.linewidth\": 0.8,\n",
    "        \"figure.dpi\": 300,\n",
    "    },\n",
    ")\n",
    "color_cycle = [\"#1BBC9B\", \"#F06060\", \"#F3B562\", \"#6e5687\", \"#5C4B51\"]\n",
    "mpl.rcParams[\"axes.prop_cycle\"] = mpl.cycler(color=color_cycle)\n",
    "np.random.seed(0)\n",
    "toxdata = pd.read_csv(\"BBBP.csv\")\n",
    "toxdata = toxdata\n",
    "toxdata.head()"
   ]
  },
  {
   "cell_type": "code",
   "execution_count": null,
   "metadata": {},
   "outputs": [],
   "source": [
    "# make object that can compute descriptors\n",
    "calc = mordred.Calculator(mordred.descriptors, ignore_3D=True)\n",
    "# make subsample from pandas df\n",
    "molecules = [rdkit.Chem.MolFromSmiles(smi) for smi in toxdata.smiles]\n",
    "\n",
    "# the invalid molecules were None, so we'll just\n",
    "# use the fact the None is False in Python\n",
    "valid_mol_idx = [bool(m) for m in molecules]\n",
    "valid_mols = [m for m in molecules if m]\n",
    "try:\n",
    "    raw_features = pd.read_pickle(\"raw_features.pb\")\n",
    "except FileNotFoundError as e:\n",
    "    raw_features = calc.pandas(valid_mols, nproc=8)\n",
    "    raw_features.to_pickle(\"raw_features.pb\")"
   ]
  },
  {
   "cell_type": "code",
   "execution_count": null,
   "metadata": {},
   "outputs": [],
   "source": [
    "labels = toxdata[valid_mol_idx].p_np"
   ]
  },
  {
   "cell_type": "code",
   "execution_count": null,
   "metadata": {},
   "outputs": [],
   "source": [
    "fm = raw_features.mean()\n",
    "fs = raw_features.std()\n",
    "\n",
    "\n",
    "def feature_convert(f):\n",
    "    f -= fm\n",
    "    f /= fs\n",
    "    return f\n",
    "\n",
    "\n",
    "features = feature_convert(raw_features)\n",
    "\n",
    "# we have some nans in features, likely because std was 0\n",
    "features = features.values.astype(float)\n",
    "features_select = np.all(np.isfinite(features), axis=0)\n",
    "features = features[:, features_select]"
   ]
  },
  {
   "cell_type": "code",
   "execution_count": null,
   "metadata": {},
   "outputs": [],
   "source": [
    "X_train, X_test, y_train, y_test = train_test_split(\n",
    "    features, labels, test_size=0.2, shuffle=True\n",
    ")\n",
    "\n",
    "clf = RandomForestClassifier(max_depth=8, random_state=0)\n",
    "clf.fit(X_train, y_train)\n",
    "predicted = clf.predict(X_test)\n",
    "print(\"AUC\", roc_auc_score(y_test, clf.predict_proba(X_test)[:, 1]))\n",
    "plt.figure(figsize=(4, 3), dpi=300)\n",
    "plot_roc_curve(clf, X_test, y_test)\n",
    "plt.plot([0, 1], [0, 1], linestyle=\"--\")\n",
    "# plt.savefig('RF-ROC.png')"
   ]
  },
  {
   "cell_type": "code",
   "execution_count": null,
   "metadata": {},
   "outputs": [],
   "source": [
    "def model_eval(smiles, _=None):\n",
    "    molecules = [rdkit.Chem.MolFromSmiles(smi) for smi in smiles]\n",
    "    # input wrangling. Get some weird values from weird smiles\n",
    "    raw_features = calc.pandas(molecules, nproc=8, quiet=True)\n",
    "    features = feature_convert(raw_features)\n",
    "    features = features.values.astype(float)\n",
    "    features = features[:, features_select]\n",
    "    labels = clf.predict(np.nan_to_num(features))\n",
    "    return labels\n",
    "    # return np.random.choice([True, False], size=labels.shape)\n",
    "\n",
    "\n",
    "labels = model_eval(toxdata.iloc[valid_mol_idx].smiles.values[:100])"
   ]
  },
  {
   "cell_type": "code",
   "execution_count": null,
   "metadata": {},
   "outputs": [],
   "source": [
    "example_neg = toxdata.iloc[valid_mol_idx].smiles.values[np.argmin(labels)]\n",
    "example_pos = toxdata.iloc[valid_mol_idx].smiles.values[np.argmax(labels)]\n",
    "example_neg_y, example_pos_y = model_eval([example_neg, example_pos])\n",
    "print(\"neg:\", example_neg, \"\\npos:\", example_pos)\n",
    "print(example_neg_y, example_pos_y)"
   ]
  },
  {
   "cell_type": "code",
   "execution_count": null,
   "metadata": {},
   "outputs": [],
   "source": [
    "space = exmol.sample_space(example_neg, model_eval)"
   ]
  },
  {
   "cell_type": "code",
   "execution_count": null,
   "metadata": {},
   "outputs": [],
   "source": [
    "exps = exmol.cf_explain(space)\n",
    "print(exps)"
   ]
  },
  {
   "cell_type": "code",
   "execution_count": null,
   "metadata": {},
   "outputs": [],
   "source": [
    "fkw = {\"figsize\": (8, 6)}\n",
    "mpl.rc(\"axes\", titlesize=12)\n",
    "exmol.plot_cf(exps, figure_kwargs=fkw, mol_size=(450, 400), nrows=1)\n",
    "\n",
    "plt.savefig(\"rf-simple.png\", dpi=180)\n",
    "# svg = exmol.insert_svg(exps, mol_fontsize=14)\n",
    "# with open(\"svg_figs/rf-simple.svg\", \"w\") as f:\n",
    "#    f.write(svg)"
   ]
  },
  {
   "cell_type": "code",
   "execution_count": null,
   "metadata": {},
   "outputs": [],
   "source": [
    "font = {\"family\": \"normal\", \"weight\": \"normal\", \"size\": 22}\n",
    "exmol.plot_space(\n",
    "    space,\n",
    "    exps,\n",
    "    figure_kwargs=fkw,\n",
    "    mol_size=(300, 200),\n",
    "    offset=0,\n",
    "    cartoon=True,\n",
    "    rasterized=True,\n",
    ")\n",
    "plt.scatter([], [], label=\"Counterfactual\", s=150, color=plt.get_cmap(\"viridis\")(1.0))\n",
    "plt.scatter([], [], label=\"Same Class\", s=150, color=plt.get_cmap(\"viridis\")(0.0))\n",
    "plt.legend(fontsize=22)\n",
    "plt.tight_layout()\n",
    "plt.savefig(\"rf-space.png\", dpi=180)\n",
    "# svg = exmol.insert_svg(exps, mol_fontsize=14)\n",
    "# with open(\"svg_figs/rf-space.svg\", \"w\") as f:\n",
    "#    f.write(svg)\n",
    "# skunk.display(svg)"
   ]
  },
  {
   "cell_type": "markdown",
   "metadata": {},
   "source": [
    "## Schematic Plots"
   ]
  },
  {
   "cell_type": "code",
   "execution_count": null,
   "metadata": {},
   "outputs": [],
   "source": [
    "from rdkit.Chem import MolFromSmiles as smi2mol\n",
    "from rdkit.Chem import MolToSmiles as mol2smi\n",
    "from rdkit.Chem.Draw import MolToImage as mol2img\n",
    "\n",
    "dos = rdkit.Chem.Draw.MolDrawOptions()\n",
    "dos.useBWAtomPalette()\n",
    "# dos.minFontSize = fontsize\n",
    "img = mol2img(smi2mol(exps[0].smiles), options=dos)\n",
    "# img.save(\"rf-schem-1.png\")"
   ]
  },
  {
   "cell_type": "code",
   "execution_count": null,
   "metadata": {},
   "outputs": [],
   "source": [
    "fkw = {\"figsize\": (8, 4)}\n",
    "font = {\"family\": \"normal\", \"weight\": \"normal\", \"size\": 22, \"dpi\": 300}\n",
    "exmol.plot_space(\n",
    "    space, exps[:2], figure_kwargs=fkw, mol_size=(300, 200), offset=0, cartoon=True\n",
    ")\n",
    "plt.scatter([], [], label=\"Counterfactual\", s=150, color=plt.get_cmap(\"viridis\")(1.0))\n",
    "plt.scatter([], [], label=\"Same Class\", s=150, color=plt.get_cmap(\"viridis\")(0.0))\n",
    "plt.legend(fontsize=22)\n",
    "plt.tight_layout()\n",
    "# plt.savefig(\"rf-schem-3.png\", bbox_inches=\"tight\", dpi=180)\n",
    "# svg = exmol.insert_svg(exps[:2], mol_fontsize=10)\n",
    "# with open(\"rf-scheme.svg\", \"w\") as f:\n",
    "#    f.write(svg)\n",
    "# skunk.display(svg)"
   ]
  },
  {
   "cell_type": "markdown",
   "metadata": {},
   "source": [
    "## Chemed"
   ]
  },
  {
   "cell_type": "code",
   "execution_count": null,
   "metadata": {},
   "outputs": [],
   "source": [
    "cspace = exmol.sample_space(\n",
    "    \"Cc1ccc(cc1Nc2nccc(n2)c3cccnc3)NC(=O)c4ccc(cc4)CN5CCN(CC5)C\",\n",
    "    model_eval,\n",
    "    preset=\"medium\",\n",
    ")"
   ]
  },
  {
   "cell_type": "code",
   "execution_count": null,
   "metadata": {},
   "outputs": [],
   "source": [
    "kws = {\"num_samples\": 1500}\n",
    "zspace = exmol.sample_space(\n",
    "    \"Cc1ccc(cc1Nc2nccc(n2)c3cccnc3)NC(=O)c4ccc(cc4)CN5CCN(CC5)C\",\n",
    "    model_eval,\n",
    "    preset=\"chemed\",\n",
    "    method_kwargs=kws,\n",
    ")"
   ]
  },
  {
   "cell_type": "code",
   "execution_count": null,
   "metadata": {},
   "outputs": [],
   "source": [
    "### Gleevac molecule\n",
    "exps = exmol.cf_explain(zspace)\n",
    "fkw = {\"figsize\": (8, 6)}\n",
    "mpl.rc(\"axes\", titlesize=12)\n",
    "exmol.plot_cf(exps, figure_kwargs=fkw, mol_size=(450, 400), nrows=1)"
   ]
  },
  {
   "cell_type": "code",
   "execution_count": null,
   "metadata": {},
   "outputs": [],
   "source": [
    "fkw = {\"figsize\": (8, 6)}\n",
    "mpl.rc(\"axes\", titlesize=12)\n",
    "cfs = exmol.cf_explain(cspace, nmols=4)\n",
    "exmol.plot_cf(cfs, figure_kwargs=fkw, mol_fontsize=26, mol_size=(400, 400), nrows=1)\n",
    "# svg = exmol.insert_svg(cfs)\n",
    "# with open(\"svg_figs/gleevac-cs.svg\", \"w\") as f:\n",
    "#    f.write(svg)\n",
    "\n",
    "# plt.savefig('gleevac-cs.png', bbox_inches='tight', dpi=180)"
   ]
  },
  {
   "cell_type": "code",
   "execution_count": null,
   "metadata": {},
   "outputs": [],
   "source": [
    "fkw = {\"figsize\": (8, 6)}\n",
    "mpl.rc(\"axes\", titlesize=12)\n",
    "exmol.plot_cf(exps, figure_kwargs=fkw, mol_size=(450, 400), nrows=1)\n",
    "\n",
    "# plt.savefig('rf-simple.png', dpi=180)\n",
    "# svg = exmol.insert_svg(exps, mol_fontsize=14)\n",
    "# with open(\"svg_figs/gleevac-simple.svg\", \"w\") as f:\n",
    "#    f.write(svg)"
   ]
  },
  {
   "cell_type": "code",
   "execution_count": null,
   "metadata": {},
   "outputs": [],
   "source": [
    "fkw = {\"figsize\": (10, 6)}\n",
    "mpl.rc(\"axes\", titlesize=12)\n",
    "exmol.plot_cf(exps, figure_kwargs=fkw, mol_size=(450, 400), nrows=1)\n",
    "\n",
    "zexps = exmol.cf_explain(zspace, nmols=5)"
   ]
  }
 ],
 "metadata": {
  "kernelspec": {
   "display_name": "Python (htf2)",
   "language": "python",
   "name": "htf2"
  },
  "language_info": {
   "codemirror_mode": {
    "name": "ipython",
    "version": 3
   },
   "file_extension": ".py",
   "mimetype": "text/x-python",
   "name": "python",
   "nbconvert_exporter": "python",
   "pygments_lexer": "ipython3",
   "version": "3.7.7"
  }
 },
 "nbformat": 4,
 "nbformat_minor": 4
}
